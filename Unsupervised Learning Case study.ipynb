{
 "cells": [
  {
   "cell_type": "code",
   "execution_count": 163,
   "id": "5b3fe3e5-4edd-4be1-acb1-b205eba94596",
   "metadata": {},
   "outputs": [],
   "source": [
    "import pandas as pd \n",
    "import numpy as np\n",
    "import matplotlib.pyplot as plt\n",
    "from sklearn.preprocessing import MinMaxScaler"
   ]
  },
  {
   "cell_type": "code",
   "execution_count": 165,
   "id": "74810090-b02d-45ae-b435-c306382a7b57",
   "metadata": {},
   "outputs": [],
   "source": [
    "df = pd.read_csv('force2020_data.csv')"
   ]
  },
  {
   "cell_type": "code",
   "execution_count": 166,
   "id": "8917cb8f-c27a-477e-b7f1-facdbfa0e0b3",
   "metadata": {},
   "outputs": [
    {
     "data": {
      "text/html": [
       "<div>\n",
       "<style scoped>\n",
       "    .dataframe tbody tr th:only-of-type {\n",
       "        vertical-align: middle;\n",
       "    }\n",
       "\n",
       "    .dataframe tbody tr th {\n",
       "        vertical-align: top;\n",
       "    }\n",
       "\n",
       "    .dataframe thead th {\n",
       "        text-align: right;\n",
       "    }\n",
       "</style>\n",
       "<table border=\"1\" class=\"dataframe\">\n",
       "  <thead>\n",
       "    <tr style=\"text-align: right;\">\n",
       "      <th></th>\n",
       "      <th>RHOB</th>\n",
       "      <th>GR</th>\n",
       "      <th>DEPTH_MD</th>\n",
       "      <th>NPHI</th>\n",
       "      <th>PEF</th>\n",
       "      <th>DTC</th>\n",
       "    </tr>\n",
       "  </thead>\n",
       "  <tbody>\n",
       "    <tr>\n",
       "      <th>0</th>\n",
       "      <td>1.884186</td>\n",
       "      <td>80.200851</td>\n",
       "      <td>494.528</td>\n",
       "      <td>NaN</td>\n",
       "      <td>20.915468</td>\n",
       "      <td>161.131180</td>\n",
       "    </tr>\n",
       "    <tr>\n",
       "      <th>1</th>\n",
       "      <td>1.889794</td>\n",
       "      <td>79.262886</td>\n",
       "      <td>494.680</td>\n",
       "      <td>NaN</td>\n",
       "      <td>19.383013</td>\n",
       "      <td>160.603470</td>\n",
       "    </tr>\n",
       "    <tr>\n",
       "      <th>2</th>\n",
       "      <td>1.896523</td>\n",
       "      <td>74.821999</td>\n",
       "      <td>494.832</td>\n",
       "      <td>NaN</td>\n",
       "      <td>22.591518</td>\n",
       "      <td>160.173615</td>\n",
       "    </tr>\n",
       "    <tr>\n",
       "      <th>3</th>\n",
       "      <td>1.891913</td>\n",
       "      <td>72.878922</td>\n",
       "      <td>494.984</td>\n",
       "      <td>NaN</td>\n",
       "      <td>32.191910</td>\n",
       "      <td>160.149429</td>\n",
       "    </tr>\n",
       "    <tr>\n",
       "      <th>4</th>\n",
       "      <td>1.880034</td>\n",
       "      <td>71.729141</td>\n",
       "      <td>495.136</td>\n",
       "      <td>NaN</td>\n",
       "      <td>38.495632</td>\n",
       "      <td>160.128342</td>\n",
       "    </tr>\n",
       "    <tr>\n",
       "      <th>...</th>\n",
       "      <td>...</td>\n",
       "      <td>...</td>\n",
       "      <td>...</td>\n",
       "      <td>...</td>\n",
       "      <td>...</td>\n",
       "      <td>...</td>\n",
       "    </tr>\n",
       "    <tr>\n",
       "      <th>18265</th>\n",
       "      <td>2.630211</td>\n",
       "      <td>19.418915</td>\n",
       "      <td>3271.416</td>\n",
       "      <td>0.187811</td>\n",
       "      <td>NaN</td>\n",
       "      <td>NaN</td>\n",
       "    </tr>\n",
       "    <tr>\n",
       "      <th>18266</th>\n",
       "      <td>2.643114</td>\n",
       "      <td>21.444370</td>\n",
       "      <td>3271.568</td>\n",
       "      <td>0.185574</td>\n",
       "      <td>NaN</td>\n",
       "      <td>NaN</td>\n",
       "    </tr>\n",
       "    <tr>\n",
       "      <th>18267</th>\n",
       "      <td>2.681300</td>\n",
       "      <td>22.646879</td>\n",
       "      <td>3271.720</td>\n",
       "      <td>0.176074</td>\n",
       "      <td>NaN</td>\n",
       "      <td>NaN</td>\n",
       "    </tr>\n",
       "    <tr>\n",
       "      <th>18268</th>\n",
       "      <td>2.738337</td>\n",
       "      <td>22.253584</td>\n",
       "      <td>3271.872</td>\n",
       "      <td>0.174617</td>\n",
       "      <td>NaN</td>\n",
       "      <td>NaN</td>\n",
       "    </tr>\n",
       "    <tr>\n",
       "      <th>18269</th>\n",
       "      <td>2.792922</td>\n",
       "      <td>19.829920</td>\n",
       "      <td>3272.024</td>\n",
       "      <td>0.176627</td>\n",
       "      <td>NaN</td>\n",
       "      <td>NaN</td>\n",
       "    </tr>\n",
       "  </tbody>\n",
       "</table>\n",
       "<p>18270 rows × 6 columns</p>\n",
       "</div>"
      ],
      "text/plain": [
       "           RHOB         GR  DEPTH_MD      NPHI        PEF         DTC\n",
       "0      1.884186  80.200851   494.528       NaN  20.915468  161.131180\n",
       "1      1.889794  79.262886   494.680       NaN  19.383013  160.603470\n",
       "2      1.896523  74.821999   494.832       NaN  22.591518  160.173615\n",
       "3      1.891913  72.878922   494.984       NaN  32.191910  160.149429\n",
       "4      1.880034  71.729141   495.136       NaN  38.495632  160.128342\n",
       "...         ...        ...       ...       ...        ...         ...\n",
       "18265  2.630211  19.418915  3271.416  0.187811        NaN         NaN\n",
       "18266  2.643114  21.444370  3271.568  0.185574        NaN         NaN\n",
       "18267  2.681300  22.646879  3271.720  0.176074        NaN         NaN\n",
       "18268  2.738337  22.253584  3271.872  0.174617        NaN         NaN\n",
       "18269  2.792922  19.829920  3272.024  0.176627        NaN         NaN\n",
       "\n",
       "[18270 rows x 6 columns]"
      ]
     },
     "execution_count": 166,
     "metadata": {},
     "output_type": "execute_result"
    }
   ],
   "source": [
    "df"
   ]
  },
  {
   "cell_type": "code",
   "execution_count": 167,
   "id": "d51a97a5-5e8d-4091-9a73-388639595c4a",
   "metadata": {},
   "outputs": [
    {
     "data": {
      "text/html": [
       "<div>\n",
       "<style scoped>\n",
       "    .dataframe tbody tr th:only-of-type {\n",
       "        vertical-align: middle;\n",
       "    }\n",
       "\n",
       "    .dataframe tbody tr th {\n",
       "        vertical-align: top;\n",
       "    }\n",
       "\n",
       "    .dataframe thead th {\n",
       "        text-align: right;\n",
       "    }\n",
       "</style>\n",
       "<table border=\"1\" class=\"dataframe\">\n",
       "  <thead>\n",
       "    <tr style=\"text-align: right;\">\n",
       "      <th></th>\n",
       "      <th>RHOB</th>\n",
       "      <th>GR</th>\n",
       "      <th>DEPTH_MD</th>\n",
       "      <th>NPHI</th>\n",
       "      <th>PEF</th>\n",
       "      <th>DTC</th>\n",
       "    </tr>\n",
       "  </thead>\n",
       "  <tbody>\n",
       "    <tr>\n",
       "      <th>count</th>\n",
       "      <td>18270.000000</td>\n",
       "      <td>18270.000000</td>\n",
       "      <td>18270.000000</td>\n",
       "      <td>14032.000000</td>\n",
       "      <td>16440.000000</td>\n",
       "      <td>18189.000000</td>\n",
       "    </tr>\n",
       "    <tr>\n",
       "      <th>mean</th>\n",
       "      <td>2.110451</td>\n",
       "      <td>63.847477</td>\n",
       "      <td>1883.228478</td>\n",
       "      <td>0.404547</td>\n",
       "      <td>3.463851</td>\n",
       "      <td>125.106178</td>\n",
       "    </tr>\n",
       "    <tr>\n",
       "      <th>std</th>\n",
       "      <td>0.297725</td>\n",
       "      <td>28.636331</td>\n",
       "      <td>801.941195</td>\n",
       "      <td>0.133532</td>\n",
       "      <td>2.561239</td>\n",
       "      <td>30.618337</td>\n",
       "    </tr>\n",
       "    <tr>\n",
       "      <th>min</th>\n",
       "      <td>1.404576</td>\n",
       "      <td>6.191506</td>\n",
       "      <td>494.528000</td>\n",
       "      <td>0.024330</td>\n",
       "      <td>1.010027</td>\n",
       "      <td>55.726753</td>\n",
       "    </tr>\n",
       "    <tr>\n",
       "      <th>25%</th>\n",
       "      <td>1.963399</td>\n",
       "      <td>43.866690</td>\n",
       "      <td>1188.750000</td>\n",
       "      <td>0.315346</td>\n",
       "      <td>2.320836</td>\n",
       "      <td>90.883087</td>\n",
       "    </tr>\n",
       "    <tr>\n",
       "      <th>50%</th>\n",
       "      <td>2.055079</td>\n",
       "      <td>66.777851</td>\n",
       "      <td>1882.972000</td>\n",
       "      <td>0.448527</td>\n",
       "      <td>2.790249</td>\n",
       "      <td>141.300461</td>\n",
       "    </tr>\n",
       "    <tr>\n",
       "      <th>75%</th>\n",
       "      <td>2.381963</td>\n",
       "      <td>81.542681</td>\n",
       "      <td>2577.802000</td>\n",
       "      <td>0.506343</td>\n",
       "      <td>4.267342</td>\n",
       "      <td>148.048355</td>\n",
       "    </tr>\n",
       "    <tr>\n",
       "      <th>max</th>\n",
       "      <td>2.927888</td>\n",
       "      <td>499.022583</td>\n",
       "      <td>3272.024000</td>\n",
       "      <td>0.800262</td>\n",
       "      <td>66.030319</td>\n",
       "      <td>175.953140</td>\n",
       "    </tr>\n",
       "  </tbody>\n",
       "</table>\n",
       "</div>"
      ],
      "text/plain": [
       "               RHOB            GR      DEPTH_MD          NPHI           PEF  \\\n",
       "count  18270.000000  18270.000000  18270.000000  14032.000000  16440.000000   \n",
       "mean       2.110451     63.847477   1883.228478      0.404547      3.463851   \n",
       "std        0.297725     28.636331    801.941195      0.133532      2.561239   \n",
       "min        1.404576      6.191506    494.528000      0.024330      1.010027   \n",
       "25%        1.963399     43.866690   1188.750000      0.315346      2.320836   \n",
       "50%        2.055079     66.777851   1882.972000      0.448527      2.790249   \n",
       "75%        2.381963     81.542681   2577.802000      0.506343      4.267342   \n",
       "max        2.927888    499.022583   3272.024000      0.800262     66.030319   \n",
       "\n",
       "                DTC  \n",
       "count  18189.000000  \n",
       "mean     125.106178  \n",
       "std       30.618337  \n",
       "min       55.726753  \n",
       "25%       90.883087  \n",
       "50%      141.300461  \n",
       "75%      148.048355  \n",
       "max      175.953140  "
      ]
     },
     "execution_count": 167,
     "metadata": {},
     "output_type": "execute_result"
    }
   ],
   "source": [
    "df.describe()"
   ]
  },
  {
   "cell_type": "code",
   "execution_count": 168,
   "id": "d347388c-55a2-47d6-a50b-b0f3550dde2e",
   "metadata": {},
   "outputs": [
    {
     "data": {
      "text/plain": [
       "RHOB           0\n",
       "GR             0\n",
       "DEPTH_MD       0\n",
       "NPHI        4238\n",
       "PEF         1830\n",
       "DTC           81\n",
       "dtype: int64"
      ]
     },
     "execution_count": 168,
     "metadata": {},
     "output_type": "execute_result"
    }
   ],
   "source": [
    "df.isna().sum()"
   ]
  },
  {
   "cell_type": "code",
   "execution_count": 169,
   "id": "f402b792-68a2-4d98-9784-7764a610c37b",
   "metadata": {},
   "outputs": [],
   "source": [
    "df['NPHI'] = df['NPHI'].fillna(df['NPHI'].mean())"
   ]
  },
  {
   "cell_type": "code",
   "execution_count": 170,
   "id": "953d9399-6749-4325-af18-f97063f46847",
   "metadata": {},
   "outputs": [],
   "source": [
    "df['PEF'] = df['PEF'].fillna(df['PEF'].mean())"
   ]
  },
  {
   "cell_type": "code",
   "execution_count": 171,
   "id": "98d8adb5-454d-4eaf-9b30-a5ba1d8edb2b",
   "metadata": {},
   "outputs": [],
   "source": [
    "df['DTC'] = df['DTC'].fillna(df['DTC'].mean())"
   ]
  },
  {
   "cell_type": "code",
   "execution_count": 172,
   "id": "eb2bc63a-0f59-44b0-90ff-8d2c31bf4f2a",
   "metadata": {},
   "outputs": [
    {
     "data": {
      "text/plain": [
       "RHOB        0\n",
       "GR          0\n",
       "DEPTH_MD    0\n",
       "NPHI        0\n",
       "PEF         0\n",
       "DTC         0\n",
       "dtype: int64"
      ]
     },
     "execution_count": 172,
     "metadata": {},
     "output_type": "execute_result"
    }
   ],
   "source": [
    "df.isna().sum()"
   ]
  },
  {
   "cell_type": "code",
   "execution_count": 173,
   "id": "8cd7880d-3df5-4a64-8076-6df2d4cd9a18",
   "metadata": {},
   "outputs": [],
   "source": [
    "def remove_outliers(df,col):\n",
    "    q1 = df[col].quantile(0.25)\n",
    "    q3 = df[col].quantile(0.75)\n",
    "    iqr = q3-q1\n",
    "    lb = q1 - 1.5 * iqr\n",
    "    ub = q3 + 1.5 * iqr\n",
    "    df[col] = df[col].clip(upper=ub)\n",
    "    df[col] = df[col].clip(lower=lb)\n",
    "    return df[col]"
   ]
  },
  {
   "cell_type": "code",
   "execution_count": 183,
   "id": "99310df9-518a-4927-bfe0-e576a2e0671a",
   "metadata": {},
   "outputs": [],
   "source": [
    "for col in df.columns:\n",
    "    remove_outliers(df, col)"
   ]
  },
  {
   "cell_type": "code",
   "execution_count": 185,
   "id": "7f0dff0a-fb52-46de-821a-e74db74fc0ea",
   "metadata": {},
   "outputs": [
    {
     "data": {
      "image/png": "[encoded data removed]",
      "text/plain": [
       "<Figure size 640x480 with 1 Axes>"
      ]
     },
     "metadata": {},
     "output_type": "display_data"
    }
   ],
   "source": [
    "df.boxplot()\n",
    "plt.xticks(rotation=45)\n",
    "plt.show()"
   ]
  },
  {
   "cell_type": "code",
   "execution_count": 187,
   "id": "a907500e-b32a-4fc6-81c9-dcd23ebd5c38",
   "metadata": {},
   "outputs": [
    {
     "data": {
      "text/html": [
       "<div>\n",
       "<style scoped>\n",
       "    .dataframe tbody tr th:only-of-type {\n",
       "        vertical-align: middle;\n",
       "    }\n",
       "\n",
       "    .dataframe tbody tr th {\n",
       "        vertical-align: top;\n",
       "    }\n",
       "\n",
       "    .dataframe thead th {\n",
       "        text-align: right;\n",
       "    }\n",
       "</style>\n",
       "<table border=\"1\" class=\"dataframe\">\n",
       "  <thead>\n",
       "    <tr style=\"text-align: right;\">\n",
       "      <th></th>\n",
       "      <th>RHOB</th>\n",
       "      <th>GR</th>\n",
       "      <th>DEPTH_MD</th>\n",
       "      <th>NPHI</th>\n",
       "      <th>PEF</th>\n",
       "      <th>DTC</th>\n",
       "    </tr>\n",
       "  </thead>\n",
       "  <tbody>\n",
       "    <tr>\n",
       "      <th>0</th>\n",
       "      <td>0.314847</td>\n",
       "      <td>0.561250</td>\n",
       "      <td>0.000000</td>\n",
       "      <td>0.404547</td>\n",
       "      <td>1.000000</td>\n",
       "      <td>0.876716</td>\n",
       "    </tr>\n",
       "    <tr>\n",
       "      <th>1</th>\n",
       "      <td>0.318528</td>\n",
       "      <td>0.554137</td>\n",
       "      <td>0.000055</td>\n",
       "      <td>0.404547</td>\n",
       "      <td>1.000000</td>\n",
       "      <td>0.872327</td>\n",
       "    </tr>\n",
       "    <tr>\n",
       "      <th>2</th>\n",
       "      <td>0.322946</td>\n",
       "      <td>0.520460</td>\n",
       "      <td>0.000109</td>\n",
       "      <td>0.404547</td>\n",
       "      <td>1.000000</td>\n",
       "      <td>0.868752</td>\n",
       "    </tr>\n",
       "    <tr>\n",
       "      <th>3</th>\n",
       "      <td>0.319919</td>\n",
       "      <td>0.505724</td>\n",
       "      <td>0.000164</td>\n",
       "      <td>0.404547</td>\n",
       "      <td>1.000000</td>\n",
       "      <td>0.868550</td>\n",
       "    </tr>\n",
       "    <tr>\n",
       "      <th>4</th>\n",
       "      <td>0.312121</td>\n",
       "      <td>0.497005</td>\n",
       "      <td>0.000219</td>\n",
       "      <td>0.404547</td>\n",
       "      <td>1.000000</td>\n",
       "      <td>0.868375</td>\n",
       "    </tr>\n",
       "    <tr>\n",
       "      <th>...</th>\n",
       "      <td>...</td>\n",
       "      <td>...</td>\n",
       "      <td>...</td>\n",
       "      <td>...</td>\n",
       "      <td>...</td>\n",
       "      <td>...</td>\n",
       "    </tr>\n",
       "    <tr>\n",
       "      <th>18265</th>\n",
       "      <td>0.804586</td>\n",
       "      <td>0.100310</td>\n",
       "      <td>0.999781</td>\n",
       "      <td>0.187811</td>\n",
       "      <td>0.440235</td>\n",
       "      <td>0.577073</td>\n",
       "    </tr>\n",
       "    <tr>\n",
       "      <th>18266</th>\n",
       "      <td>0.813056</td>\n",
       "      <td>0.115670</td>\n",
       "      <td>0.999836</td>\n",
       "      <td>0.185574</td>\n",
       "      <td>0.440235</td>\n",
       "      <td>0.577073</td>\n",
       "    </tr>\n",
       "    <tr>\n",
       "      <th>18267</th>\n",
       "      <td>0.838124</td>\n",
       "      <td>0.124789</td>\n",
       "      <td>0.999891</td>\n",
       "      <td>0.176074</td>\n",
       "      <td>0.440235</td>\n",
       "      <td>0.577073</td>\n",
       "    </tr>\n",
       "    <tr>\n",
       "      <th>18268</th>\n",
       "      <td>0.875567</td>\n",
       "      <td>0.121807</td>\n",
       "      <td>0.999945</td>\n",
       "      <td>0.174617</td>\n",
       "      <td>0.440235</td>\n",
       "      <td>0.577073</td>\n",
       "    </tr>\n",
       "    <tr>\n",
       "      <th>18269</th>\n",
       "      <td>0.911400</td>\n",
       "      <td>0.103427</td>\n",
       "      <td>1.000000</td>\n",
       "      <td>0.176627</td>\n",
       "      <td>0.440235</td>\n",
       "      <td>0.577073</td>\n",
       "    </tr>\n",
       "  </tbody>\n",
       "</table>\n",
       "<p>18270 rows × 6 columns</p>\n",
       "</div>"
      ],
      "text/plain": [
       "           RHOB        GR  DEPTH_MD      NPHI       PEF       DTC\n",
       "0      0.314847  0.561250  0.000000  0.404547  1.000000  0.876716\n",
       "1      0.318528  0.554137  0.000055  0.404547  1.000000  0.872327\n",
       "2      0.322946  0.520460  0.000109  0.404547  1.000000  0.868752\n",
       "3      0.319919  0.505724  0.000164  0.404547  1.000000  0.868550\n",
       "4      0.312121  0.497005  0.000219  0.404547  1.000000  0.868375\n",
       "...         ...       ...       ...       ...       ...       ...\n",
       "18265  0.804586  0.100310  0.999781  0.187811  0.440235  0.577073\n",
       "18266  0.813056  0.115670  0.999836  0.185574  0.440235  0.577073\n",
       "18267  0.838124  0.124789  0.999891  0.176074  0.440235  0.577073\n",
       "18268  0.875567  0.121807  0.999945  0.174617  0.440235  0.577073\n",
       "18269  0.911400  0.103427  1.000000  0.176627  0.440235  0.577073\n",
       "\n",
       "[18270 rows x 6 columns]"
      ]
     },
     "execution_count": 187,
     "metadata": {},
     "output_type": "execute_result"
    }
   ],
   "source": [
    "minmax_scaler  = MinMaxScaler(feature_range=(0,1))\n",
    "df[['RHOB','GR','DEPTH_MD','PEF','DTC']] = minmax_scaler.fit_transform(df[['RHOB','GR','DEPTH_MD','PEF','DTC']])\n",
    "df"
   ]
  },
  {
   "cell_type": "code",
   "execution_count": 189,
   "id": "c96e447e-b261-4510-bdc9-f1481c276f1d",
   "metadata": {},
   "outputs": [
    {
     "data": {
      "image/png": "[encoded data removed]",
      "text/plain": [
       "<Figure size 640x480 with 1 Axes>"
      ]
     },
     "metadata": {},
     "output_type": "display_data"
    }
   ],
   "source": [
    "colors = ['r','g']\n",
    "for i in range(2):\n",
    "    cluster_data = X[y_kmeans ==i]\n",
    "    plt.scatter(cluster_data['RHOB'],\n",
    "              cluster_data['DTC'],\n",
    "              c=colors[i])\n"
   ]
  },
  {
   "cell_type": "code",
   "execution_count": 190,
   "id": "f218cd47-8d72-41cf-aef3-effa0a8a43a4",
   "metadata": {},
   "outputs": [],
   "source": [
    "from sklearn.cluster import KMeans"
   ]
  },
  {
   "cell_type": "code",
   "execution_count": 193,
   "id": "5bf4538b-b97c-46a4-9f1d-1d130744c667",
   "metadata": {},
   "outputs": [
    {
     "data": {
      "text/html": [
       "<div>\n",
       "<style scoped>\n",
       "    .dataframe tbody tr th:only-of-type {\n",
       "        vertical-align: middle;\n",
       "    }\n",
       "\n",
       "    .dataframe tbody tr th {\n",
       "        vertical-align: top;\n",
       "    }\n",
       "\n",
       "    .dataframe thead th {\n",
       "        text-align: right;\n",
       "    }\n",
       "</style>\n",
       "<table border=\"1\" class=\"dataframe\">\n",
       "  <thead>\n",
       "    <tr style=\"text-align: right;\">\n",
       "      <th></th>\n",
       "      <th>RHOB</th>\n",
       "      <th>DTC</th>\n",
       "    </tr>\n",
       "  </thead>\n",
       "  <tbody>\n",
       "    <tr>\n",
       "      <th>0</th>\n",
       "      <td>0.314847</td>\n",
       "      <td>0.876716</td>\n",
       "    </tr>\n",
       "    <tr>\n",
       "      <th>1</th>\n",
       "      <td>0.318528</td>\n",
       "      <td>0.872327</td>\n",
       "    </tr>\n",
       "    <tr>\n",
       "      <th>2</th>\n",
       "      <td>0.322946</td>\n",
       "      <td>0.868752</td>\n",
       "    </tr>\n",
       "  </tbody>\n",
       "</table>\n",
       "</div>"
      ],
      "text/plain": [
       "       RHOB       DTC\n",
       "0  0.314847  0.876716\n",
       "1  0.318528  0.872327\n",
       "2  0.322946  0.868752"
      ]
     },
     "execution_count": 193,
     "metadata": {},
     "output_type": "execute_result"
    }
   ],
   "source": [
    "X = df[['RHOB','DTC']]\n",
    "X.head(3)"
   ]
  },
  {
   "cell_type": "code",
   "execution_count": 195,
   "id": "e4b3895f-14d4-401c-bb20-4aa4a2693570",
   "metadata": {},
   "outputs": [],
   "source": [
    "wcss = []\n",
    "for i in range(1,11):\n",
    "  kmeans = KMeans(n_clusters = i, init = 'k-means++',\n",
    "                  max_iter=300, n_init=10, random_state=0)\n",
    "  kmeans.fit(X)\n",
    "    \n",
    "  wcss.append(kmeans.inertia_)"
   ]
  },
  {
   "cell_type": "code",
   "execution_count": 196,
   "id": "23c9da83-8907-4365-9b06-fb669f5b10a8",
   "metadata": {},
   "outputs": [],
   "source": [
    "kmeans = KMeans(n_clusters = 4, init = 'k-means++',\n",
    "                max_iter = 300, n_init = 10, random_state = 0)\n",
    "\n",
    "y_kmeans = kmeans.fit_predict(X)"
   ]
  },
  {
   "cell_type": "code",
   "execution_count": 197,
   "id": "ae44f637-5bae-41a6-a1ef-803d778f3d56",
   "metadata": {},
   "outputs": [
    {
     "data": {
      "text/html": [
       "<div>\n",
       "<style scoped>\n",
       "    .dataframe tbody tr th:only-of-type {\n",
       "        vertical-align: middle;\n",
       "    }\n",
       "\n",
       "    .dataframe tbody tr th {\n",
       "        vertical-align: top;\n",
       "    }\n",
       "\n",
       "    .dataframe thead th {\n",
       "        text-align: right;\n",
       "    }\n",
       "</style>\n",
       "<table border=\"1\" class=\"dataframe\">\n",
       "  <thead>\n",
       "    <tr style=\"text-align: right;\">\n",
       "      <th></th>\n",
       "      <th>RHOB</th>\n",
       "      <th>GR</th>\n",
       "      <th>DEPTH_MD</th>\n",
       "      <th>NPHI</th>\n",
       "      <th>PEF</th>\n",
       "      <th>DTC</th>\n",
       "      <th>Cluster</th>\n",
       "    </tr>\n",
       "  </thead>\n",
       "  <tbody>\n",
       "    <tr>\n",
       "      <th>0</th>\n",
       "      <td>0.314847</td>\n",
       "      <td>0.561250</td>\n",
       "      <td>0.000000</td>\n",
       "      <td>0.404547</td>\n",
       "      <td>1.0</td>\n",
       "      <td>0.876716</td>\n",
       "      <td>3</td>\n",
       "    </tr>\n",
       "    <tr>\n",
       "      <th>1</th>\n",
       "      <td>0.318528</td>\n",
       "      <td>0.554137</td>\n",
       "      <td>0.000055</td>\n",
       "      <td>0.404547</td>\n",
       "      <td>1.0</td>\n",
       "      <td>0.872327</td>\n",
       "      <td>3</td>\n",
       "    </tr>\n",
       "    <tr>\n",
       "      <th>2</th>\n",
       "      <td>0.322946</td>\n",
       "      <td>0.520460</td>\n",
       "      <td>0.000109</td>\n",
       "      <td>0.404547</td>\n",
       "      <td>1.0</td>\n",
       "      <td>0.868752</td>\n",
       "      <td>3</td>\n",
       "    </tr>\n",
       "    <tr>\n",
       "      <th>3</th>\n",
       "      <td>0.319919</td>\n",
       "      <td>0.505724</td>\n",
       "      <td>0.000164</td>\n",
       "      <td>0.404547</td>\n",
       "      <td>1.0</td>\n",
       "      <td>0.868550</td>\n",
       "      <td>3</td>\n",
       "    </tr>\n",
       "    <tr>\n",
       "      <th>4</th>\n",
       "      <td>0.312121</td>\n",
       "      <td>0.497005</td>\n",
       "      <td>0.000219</td>\n",
       "      <td>0.404547</td>\n",
       "      <td>1.0</td>\n",
       "      <td>0.868375</td>\n",
       "      <td>3</td>\n",
       "    </tr>\n",
       "  </tbody>\n",
       "</table>\n",
       "</div>"
      ],
      "text/plain": [
       "       RHOB        GR  DEPTH_MD      NPHI  PEF       DTC  Cluster\n",
       "0  0.314847  0.561250  0.000000  0.404547  1.0  0.876716        3\n",
       "1  0.318528  0.554137  0.000055  0.404547  1.0  0.872327        3\n",
       "2  0.322946  0.520460  0.000109  0.404547  1.0  0.868752        3\n",
       "3  0.319919  0.505724  0.000164  0.404547  1.0  0.868550        3\n",
       "4  0.312121  0.497005  0.000219  0.404547  1.0  0.868375        3"
      ]
     },
     "execution_count": 197,
     "metadata": {},
     "output_type": "execute_result"
    }
   ],
   "source": [
    "df['Cluster'] = y_kmeans\n",
    "df.head()"
   ]
  },
  {
   "cell_type": "code",
   "execution_count": 198,
   "id": "4cf772e1-67a5-4c7e-bba1-562d43a43900",
   "metadata": {},
   "outputs": [
    {
     "data": {
      "image/png": "[encoded data removed]",
      "text/plain": [
       "<Figure size 640x480 with 1 Axes>"
      ]
     },
     "metadata": {},
     "output_type": "display_data"
    }
   ],
   "source": [
    "colors = ['r','g','b','y','m']\n",
    "\n",
    "for i in range(5):\n",
    "  cluster_data = X[y_kmeans ==i]\n",
    "  plt.scatter(cluster_data['RHOB'],\n",
    "              cluster_data['DTC'],\n",
    "              c=colors[i],\n",
    "              label = f'Cluster{i}')\n",
    "  plt.legend()"
   ]
  },
  {
   "cell_type": "code",
   "execution_count": 202,
   "id": "b4191cfc-6952-4c4e-a5df-db7011aa19f0",
   "metadata": {},
   "outputs": [],
   "source": [
    "def predict_cluster(RHOB,NPHI):\n",
    "  new_data = [[RHOB,NPHI]]\n",
    "  cluster = kmeans.predict(new_data)\n",
    "  return cluster[0]"
   ]
  },
  {
   "cell_type": "code",
   "execution_count": 204,
   "id": "7db13398-4a86-4406-a14c-c9c16b8aee3f",
   "metadata": {},
   "outputs": [
    {
     "name": "stdout",
     "output_type": "stream",
     "text": [
      "The rock belongs to cluster: 1\n"
     ]
    },
    {
     "name": "stderr",
     "output_type": "stream",
     "text": [
      "C:\\Users\\madha\\anaconda3\\Lib\\site-packages\\sklearn\\base.py:493: UserWarning: X does not have valid feature names, but KMeans was fitted with feature names\n",
      "  warnings.warn(\n"
     ]
    }
   ],
   "source": [
    "new_RHOB = 290\n",
    "new_NPFI = 24\n",
    "\n",
    "predicted_cluster = predict_cluster(new_RHOB,new_NPFI)\n",
    "print(f'The rock belongs to cluster: {predicted_cluster}')"
   ]
  },
  {
   "cell_type": "code",
   "execution_count": 207,
   "id": "d04e9327-28f0-4ac6-b128-baa43ac24740",
   "metadata": {},
   "outputs": [
    {
     "name": "stdout",
     "output_type": "stream",
     "text": [
      "0.5771013268378922\n"
     ]
    }
   ],
   "source": [
    "from sklearn.metrics import silhouette_score\n",
    "silhouette_avg1 = silhouette_score(X, y_kmeans)\n",
    "print(silhouette_avg1)"
   ]
  },
  {
   "cell_type": "code",
   "execution_count": null,
   "id": "eb0f19a2-4f02-40a2-8cd6-c9c68d676442",
   "metadata": {},
   "outputs": [],
   "source": []
  }
 ],
 "metadata": {
  "kernelspec": {
   "display_name": "Python 3 (ipykernel)",
   "language": "python",
   "name": "python3"
  },
  "language_info": {
   "codemirror_mode": {
    "name": "ipython",
    "version": 3
   },
   "file_extension": ".py",
   "mimetype": "text/x-python",
   "name": "python",
   "nbconvert_exporter": "python",
   "pygments_lexer": "ipython3",
   "version": "3.12.7"
  }
 },
 "nbformat": 4,
 "nbformat_minor": 5
}
